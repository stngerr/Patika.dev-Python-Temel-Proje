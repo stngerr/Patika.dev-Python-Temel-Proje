{
  "metadata": {
    "language_info": {
      "codemirror_mode": {
        "name": "python",
        "version": 3
      },
      "file_extension": ".py",
      "mimetype": "text/x-python",
      "name": "python",
      "nbconvert_exporter": "python",
      "pygments_lexer": "ipython3",
      "version": "3.8"
    },
    "kernelspec": {
      "name": "python",
      "display_name": "Python (Pyodide)",
      "language": "python"
    }
  },
  "nbformat_minor": 4,
  "nbformat": 4,
  "cells": [
    {
      "cell_type": "markdown",
      "source": "Bir listeyi düzleştiren (flatten) fonksiyon yazın. Elemanları birden çok katmanlı listelerden ([[3],2] gibi) oluşabileceği gibi, non-scalar verilerden de oluşabilir. Örnek olarak:",
      "metadata": {}
    },
    {
      "cell_type": "code",
      "source": "l_1 = [[1, 'a', ['cat'], 2], [[[3]], 'dog'], 4, 5]\nl_2 = []\n\ndef flatten(l_1):\n\n    for i in l_1:\n        if isinstance(i, list):\n            flatten(i)\n        else:\n            l_2.append(i)\n\nflatten(l_1)\nprint(l_2)",
      "metadata": {
        "trusted": true
      },
      "execution_count": 2,
      "outputs": [
        {
          "name": "stdout",
          "text": "[1, 'a', 'cat', 2, 3, 'dog', 4, 5]\n",
          "output_type": "stream"
        }
      ]
    },
    {
      "cell_type": "markdown",
      "source": "Verilen listenin içindeki elemanları tersine döndüren bir fonksiyon yazın. Eğer listenin içindeki elemanlar da liste içeriyorsa onların elemanlarını da tersine döndürün.",
      "metadata": {}
    },
    {
      "cell_type": "code",
      "source": "l = [[1, 2], [3, 4], [5, 6, 7]]\n\ndef reverse_list(l_input):\n    for i in l_input:\n        i.reverse()\n    l_input.reverse()\n    return(l_input)\n\nreverse_list(l)",
      "metadata": {
        "trusted": true
      },
      "execution_count": 3,
      "outputs": [
        {
          "execution_count": 3,
          "output_type": "execute_result",
          "data": {
            "text/plain": "[[7, 6, 5], [4, 3], [2, 1]]"
          },
          "metadata": {}
        }
      ]
    },
    {
      "cell_type": "code",
      "source": "",
      "metadata": {},
      "execution_count": null,
      "outputs": []
    }
  ]
}